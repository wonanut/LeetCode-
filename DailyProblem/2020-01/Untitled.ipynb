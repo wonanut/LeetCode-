{
 "cells": [
  {
   "cell_type": "code",
   "execution_count": null,
   "metadata": {},
   "outputs": [
    {
     "name": "stdout",
     "output_type": "stream",
     "text": [
      "-----start-----\n"
     ]
    }
   ],
   "source": [
    "import multiprocessing\n",
    "import time\n",
    "import os\n",
    "import random\n",
    "\n",
    "\n",
    "def test1(msg):\n",
    "        t_start = time.time()   \n",
    "        print(\"%s开始执行，进程号为%d\" % (msg, os.getpid()))\n",
    "        time.sleep(random.random() * 2)  \n",
    "        t_stop = time.time()\n",
    "        print(\"%s执行完成，耗时%.2f\" % (msg, t_stop - t_start)) \n",
    "\n",
    "\n",
    "if __name__ == \"__main__\":\n",
    "    \n",
    "        po = multiprocessing.Pool(3)\n",
    "        for i in range(0, 10):\n",
    "                # Pool().apply_async(要调用的目标,(传递给目标的参数元祖,))\n",
    "                # 每次循环将会用空闲出来的子进程去调用目标\n",
    "                po.apply_async(test1, (i,))\n",
    "    \n",
    "        print(\"-----start-----\")\n",
    "    \n",
    "        po.close() # 关闭进程池，关闭后po不再接收新的请求\n",
    "        po.join() # 等待po中所有子进程执行完成，必须放在close语句之后\n",
    "\n",
    "        print(\"-----end-----\")"
   ]
  },
  {
   "cell_type": "code",
   "execution_count": 3,
   "metadata": {},
   "outputs": [],
   "source": [
    "class Person(object):\n",
    "    def __init__(self, name = 'tom', age = 10):\n",
    "        self.name = name\n",
    "        self.age = age\n",
    "        self.parent = None\n",
    "    \n",
    "    def __str__(self):\n",
    "        return \"Your name is: \" + self.name"
   ]
  },
  {
   "cell_type": "code",
   "execution_count": 4,
   "metadata": {},
   "outputs": [
    {
     "name": "stdout",
     "output_type": "stream",
     "text": [
      "Your name is: tom\n"
     ]
    }
   ],
   "source": [
    "test = Person()\n",
    "print(test)"
   ]
  },
  {
   "cell_type": "code",
   "execution_count": 22,
   "metadata": {},
   "outputs": [
    {
     "name": "stdout",
     "output_type": "stream",
     "text": [
      "21,,wozenmezhemeshuai,,aitebao\n"
     ]
    }
   ],
   "source": [
    "class ss:\n",
    "    def __init__(self,age,name):\n",
    "        self.age = age\n",
    "        self.name = name\n",
    "    def __str__(self):\n",
    "        return str(self.age)+\",wozenmezhemeshuai,\"+self.name\n",
    "if __name__==\"__main__\":\n",
    "    s = ss(21,'aitebao')\n",
    "    print(s)"
   ]
  },
  {
   "cell_type": "code",
   "execution_count": null,
   "metadata": {},
   "outputs": [],
   "source": []
  }
 ],
 "metadata": {
  "kernelspec": {
   "display_name": "Python 3",
   "language": "python",
   "name": "python3"
  },
  "language_info": {
   "codemirror_mode": {
    "name": "ipython",
    "version": 3
   },
   "file_extension": ".py",
   "mimetype": "text/x-python",
   "name": "python",
   "nbconvert_exporter": "python",
   "pygments_lexer": "ipython3",
   "version": "3.5.6"
  }
 },
 "nbformat": 4,
 "nbformat_minor": 2
}
